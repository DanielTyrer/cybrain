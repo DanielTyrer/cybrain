{
 "metadata": {
  "name": ""
 },
 "nbformat": 3,
 "nbformat_minor": 0,
 "worksheets": [
  {
   "cells": [
    {
     "cell_type": "code",
     "collapsed": false,
     "input": [
      "%load_ext cythonmagic\n"
     ],
     "language": "python",
     "metadata": {},
     "outputs": [],
     "prompt_number": 1
    },
    {
     "cell_type": "code",
     "collapsed": false,
     "input": [
      "%%cython\n",
      "\n",
      "cdef test1(list L1, list L2):\n",
      "    \n",
      "    itera = iter(L2)\n",
      "    cdef int x = 0\n",
      "    cdef int l\n",
      "    for l in L1:\n",
      "        x += l + next(itera)\n",
      "        \n",
      "cdef test2(list L1, list L2):\n",
      "    \n",
      "    cdef int N\n",
      "    cdef int x\n",
      "    N = len(L1)\n",
      "    x = 0\n",
      "    cdef int i\n",
      "    for i in range(N):\n",
      "        x += L1[i] + L2[i]\n",
      "        \n",
      "        "
     ],
     "language": "python",
     "metadata": {},
     "outputs": [],
     "prompt_number": 15
    },
    {
     "cell_type": "code",
     "collapsed": false,
     "input": [
      "%timeit test1(range(1000), range(1000))\n",
      "%timeit test2(range(1000), range(1000))"
     ],
     "language": "python",
     "metadata": {},
     "outputs": [
      {
       "output_type": "stream",
       "stream": "stdout",
       "text": [
        "10000 loops, best of 3: 73.1 \u00b5s per loop\n",
        "10000 loops, best of 3: 70.3 \u00b5s per loop"
       ]
      },
      {
       "output_type": "stream",
       "stream": "stdout",
       "text": [
        "\n"
       ]
      }
     ],
     "prompt_number": 16
    },
    {
     "cell_type": "code",
     "collapsed": false,
     "input": [],
     "language": "python",
     "metadata": {},
     "outputs": []
    }
   ],
   "metadata": {}
  }
 ]
}